{
  "nbformat": 4,
  "nbformat_minor": 0,
  "metadata": {
    "colab": {
      "provenance": [],
      "mount_file_id": "1i5H5fNOripBhUhlt6H4BPWos20I9imCw",
      "authorship_tag": "ABX9TyOoMA34zDRmRm74hTwtFcVH",
      "include_colab_link": true
    },
    "kernelspec": {
      "name": "python3",
      "display_name": "Python 3"
    },
    "language_info": {
      "name": "python"
    }
  },
  "cells": [
    {
      "cell_type": "markdown",
      "metadata": {
        "id": "view-in-github",
        "colab_type": "text"
      },
      "source": [
        "<a href=\"https://colab.research.google.com/github/he-yilan/etude146A/blob/main/Une_%C3%89tude_Phon%C3%A9tique_sur_l'Acquisition_de_la_Langue_Fran%C3%A7aise.ipynb\" target=\"_parent\"><img src=\"https://colab.research.google.com/assets/colab-badge.svg\" alt=\"Open In Colab\"/></a>"
      ]
    },
    {
      "cell_type": "markdown",
      "source": [
        "# Une Étude Phonétique sur l'Acquisition de la Langue Française"
      ],
      "metadata": {
        "id": "-1Kqs8evhMLD"
      }
    },
    {
      "cell_type": "code",
      "execution_count": 1,
      "metadata": {
        "id": "J8gs0f4HYM8C"
      },
      "outputs": [],
      "source": [
        "from google.colab import files\n",
        "import pandas as pd\n",
        "import numpy as np\n",
        "import matplotlib.pyplot as plt\n",
        "import fractions"
      ]
    },
    {
      "cell_type": "code",
      "source": [
        "def divise(col):\n",
        "  \"\"\"\n",
        "  Convertir une réponse à une liste utilisant les virgules pour la séparer\n",
        "  \"\"\"\n",
        "  arr = []\n",
        "  for i in range(len(col)):\n",
        "    reponse = col[i]\n",
        "    reponse_arr = reponse.split(',')\n",
        "    arr.extend(reponse_arr)\n",
        "  return arr"
      ],
      "metadata": {
        "id": "85fxtfGaU-w-"
      },
      "execution_count": 2,
      "outputs": []
    },
    {
      "cell_type": "code",
      "source": [
        "def compter(arr):\n",
        "  \"\"\"\n",
        "  Compter combien de fois une réponse apparait\n",
        "  \"\"\"\n",
        "  resultat = []\n",
        "  resultat_cle = []\n",
        "  resultat_dict = {}\n",
        "\n",
        "  # créer les clés\n",
        "  for i in range(len(arr)):\n",
        "    if not arr[i] in resultat_cle:\n",
        "      resultat_cle.append(arr[i])\n",
        "\n",
        "  # créer la dictionnaire\n",
        "  for j in resultat_cle:\n",
        "    resultat_dict[j] = 0\n",
        "\n",
        "  # ajouter les valeurs \n",
        "  for cle in resultat_dict:\n",
        "    for k in range(len(arr)): \n",
        "      if arr[k] == cle:\n",
        "        resultat_dict[cle] += 1\n",
        "\n",
        "  return resultat_dict"
      ],
      "metadata": {
        "id": "r1jdDpbXU4cF"
      },
      "execution_count": 3,
      "outputs": []
    },
    {
      "cell_type": "markdown",
      "source": [
        "## Les Apprenants de Français L2\n"
      ],
      "metadata": {
        "id": "uRA0UfWGYN04"
      }
    },
    {
      "cell_type": "code",
      "source": [
        "L2_donnees = pd.read_csv('/content/drive/MyDrive/French_146A/étude/données/L2 - Sheet1.csv')\n",
        "L2_donnees"
      ],
      "metadata": {
        "id": "FuawBl1PcK4u",
        "colab": {
          "base_uri": "https://localhost:8080/",
          "height": 305
        },
        "outputId": "273f9401-55dd-4987-dad8-fd1a9799e5f0"
      },
      "execution_count": 4,
      "outputs": [
        {
          "output_type": "execute_result",
          "data": {
            "text/plain": [
              "   Sujet  Age Period_Apprentissage                        L1  \\\n",
              "0      1   19                 5/24            coreen,anglais   \n",
              "1      2   19                    7  chinois mandarin,anglais   \n",
              "2      3   20                    6          espagnol,anglais   \n",
              "3      4   23                    2           anglais,suedois   \n",
              "4      5   16                   15                  slovaque   \n",
              "\n",
              "                                            L2  Vocabulaire  Grammaire  \\\n",
              "0  japonais,chinois mandarin,espagnol,francais            4          3   \n",
              "1           chinois mandarin,francais,japonais            4          3   \n",
              "2                             anglais,francais            2          5   \n",
              "3            francais,espagnol,hindi,portugais            2          3   \n",
              "4                             anglais,francais            2          3   \n",
              "\n",
              "   Prononciation  Lecture  Ecoute         Methodes  Bon  EE  HH Liaison  \n",
              "0              5        4       5  0,1,2,3,4,5,6,7    1   0   0     2/7  \n",
              "1              5        1       2      2,3,4,5,6,7    1   0   0     6/7  \n",
              "2              3        4       1            1,3,4    1   0   0     5/7  \n",
              "3              3        5       5        1,3,4,6,7    0   0   0     6/7  \n",
              "4              1        4       5              2,4    1   0   1     6/7  "
            ],
            "text/html": [
              "\n",
              "  <div id=\"df-f7d89736-1bea-40cb-9949-799859fe7ad7\">\n",
              "    <div class=\"colab-df-container\">\n",
              "      <div>\n",
              "<style scoped>\n",
              "    .dataframe tbody tr th:only-of-type {\n",
              "        vertical-align: middle;\n",
              "    }\n",
              "\n",
              "    .dataframe tbody tr th {\n",
              "        vertical-align: top;\n",
              "    }\n",
              "\n",
              "    .dataframe thead th {\n",
              "        text-align: right;\n",
              "    }\n",
              "</style>\n",
              "<table border=\"1\" class=\"dataframe\">\n",
              "  <thead>\n",
              "    <tr style=\"text-align: right;\">\n",
              "      <th></th>\n",
              "      <th>Sujet</th>\n",
              "      <th>Age</th>\n",
              "      <th>Period_Apprentissage</th>\n",
              "      <th>L1</th>\n",
              "      <th>L2</th>\n",
              "      <th>Vocabulaire</th>\n",
              "      <th>Grammaire</th>\n",
              "      <th>Prononciation</th>\n",
              "      <th>Lecture</th>\n",
              "      <th>Ecoute</th>\n",
              "      <th>Methodes</th>\n",
              "      <th>Bon</th>\n",
              "      <th>EE</th>\n",
              "      <th>HH</th>\n",
              "      <th>Liaison</th>\n",
              "    </tr>\n",
              "  </thead>\n",
              "  <tbody>\n",
              "    <tr>\n",
              "      <th>0</th>\n",
              "      <td>1</td>\n",
              "      <td>19</td>\n",
              "      <td>5/24</td>\n",
              "      <td>coreen,anglais</td>\n",
              "      <td>japonais,chinois mandarin,espagnol,francais</td>\n",
              "      <td>4</td>\n",
              "      <td>3</td>\n",
              "      <td>5</td>\n",
              "      <td>4</td>\n",
              "      <td>5</td>\n",
              "      <td>0,1,2,3,4,5,6,7</td>\n",
              "      <td>1</td>\n",
              "      <td>0</td>\n",
              "      <td>0</td>\n",
              "      <td>2/7</td>\n",
              "    </tr>\n",
              "    <tr>\n",
              "      <th>1</th>\n",
              "      <td>2</td>\n",
              "      <td>19</td>\n",
              "      <td>7</td>\n",
              "      <td>chinois mandarin,anglais</td>\n",
              "      <td>chinois mandarin,francais,japonais</td>\n",
              "      <td>4</td>\n",
              "      <td>3</td>\n",
              "      <td>5</td>\n",
              "      <td>1</td>\n",
              "      <td>2</td>\n",
              "      <td>2,3,4,5,6,7</td>\n",
              "      <td>1</td>\n",
              "      <td>0</td>\n",
              "      <td>0</td>\n",
              "      <td>6/7</td>\n",
              "    </tr>\n",
              "    <tr>\n",
              "      <th>2</th>\n",
              "      <td>3</td>\n",
              "      <td>20</td>\n",
              "      <td>6</td>\n",
              "      <td>espagnol,anglais</td>\n",
              "      <td>anglais,francais</td>\n",
              "      <td>2</td>\n",
              "      <td>5</td>\n",
              "      <td>3</td>\n",
              "      <td>4</td>\n",
              "      <td>1</td>\n",
              "      <td>1,3,4</td>\n",
              "      <td>1</td>\n",
              "      <td>0</td>\n",
              "      <td>0</td>\n",
              "      <td>5/7</td>\n",
              "    </tr>\n",
              "    <tr>\n",
              "      <th>3</th>\n",
              "      <td>4</td>\n",
              "      <td>23</td>\n",
              "      <td>2</td>\n",
              "      <td>anglais,suedois</td>\n",
              "      <td>francais,espagnol,hindi,portugais</td>\n",
              "      <td>2</td>\n",
              "      <td>3</td>\n",
              "      <td>3</td>\n",
              "      <td>5</td>\n",
              "      <td>5</td>\n",
              "      <td>1,3,4,6,7</td>\n",
              "      <td>0</td>\n",
              "      <td>0</td>\n",
              "      <td>0</td>\n",
              "      <td>6/7</td>\n",
              "    </tr>\n",
              "    <tr>\n",
              "      <th>4</th>\n",
              "      <td>5</td>\n",
              "      <td>16</td>\n",
              "      <td>15</td>\n",
              "      <td>slovaque</td>\n",
              "      <td>anglais,francais</td>\n",
              "      <td>2</td>\n",
              "      <td>3</td>\n",
              "      <td>1</td>\n",
              "      <td>4</td>\n",
              "      <td>5</td>\n",
              "      <td>2,4</td>\n",
              "      <td>1</td>\n",
              "      <td>0</td>\n",
              "      <td>1</td>\n",
              "      <td>6/7</td>\n",
              "    </tr>\n",
              "  </tbody>\n",
              "</table>\n",
              "</div>\n",
              "      <button class=\"colab-df-convert\" onclick=\"convertToInteractive('df-f7d89736-1bea-40cb-9949-799859fe7ad7')\"\n",
              "              title=\"Convert this dataframe to an interactive table.\"\n",
              "              style=\"display:none;\">\n",
              "        \n",
              "  <svg xmlns=\"http://www.w3.org/2000/svg\" height=\"24px\"viewBox=\"0 0 24 24\"\n",
              "       width=\"24px\">\n",
              "    <path d=\"M0 0h24v24H0V0z\" fill=\"none\"/>\n",
              "    <path d=\"M18.56 5.44l.94 2.06.94-2.06 2.06-.94-2.06-.94-.94-2.06-.94 2.06-2.06.94zm-11 1L8.5 8.5l.94-2.06 2.06-.94-2.06-.94L8.5 2.5l-.94 2.06-2.06.94zm10 10l.94 2.06.94-2.06 2.06-.94-2.06-.94-.94-2.06-.94 2.06-2.06.94z\"/><path d=\"M17.41 7.96l-1.37-1.37c-.4-.4-.92-.59-1.43-.59-.52 0-1.04.2-1.43.59L10.3 9.45l-7.72 7.72c-.78.78-.78 2.05 0 2.83L4 21.41c.39.39.9.59 1.41.59.51 0 1.02-.2 1.41-.59l7.78-7.78 2.81-2.81c.8-.78.8-2.07 0-2.86zM5.41 20L4 18.59l7.72-7.72 1.47 1.35L5.41 20z\"/>\n",
              "  </svg>\n",
              "      </button>\n",
              "      \n",
              "  <style>\n",
              "    .colab-df-container {\n",
              "      display:flex;\n",
              "      flex-wrap:wrap;\n",
              "      gap: 12px;\n",
              "    }\n",
              "\n",
              "    .colab-df-convert {\n",
              "      background-color: #E8F0FE;\n",
              "      border: none;\n",
              "      border-radius: 50%;\n",
              "      cursor: pointer;\n",
              "      display: none;\n",
              "      fill: #1967D2;\n",
              "      height: 32px;\n",
              "      padding: 0 0 0 0;\n",
              "      width: 32px;\n",
              "    }\n",
              "\n",
              "    .colab-df-convert:hover {\n",
              "      background-color: #E2EBFA;\n",
              "      box-shadow: 0px 1px 2px rgba(60, 64, 67, 0.3), 0px 1px 3px 1px rgba(60, 64, 67, 0.15);\n",
              "      fill: #174EA6;\n",
              "    }\n",
              "\n",
              "    [theme=dark] .colab-df-convert {\n",
              "      background-color: #3B4455;\n",
              "      fill: #D2E3FC;\n",
              "    }\n",
              "\n",
              "    [theme=dark] .colab-df-convert:hover {\n",
              "      background-color: #434B5C;\n",
              "      box-shadow: 0px 1px 3px 1px rgba(0, 0, 0, 0.15);\n",
              "      filter: drop-shadow(0px 1px 2px rgba(0, 0, 0, 0.3));\n",
              "      fill: #FFFFFF;\n",
              "    }\n",
              "  </style>\n",
              "\n",
              "      <script>\n",
              "        const buttonEl =\n",
              "          document.querySelector('#df-f7d89736-1bea-40cb-9949-799859fe7ad7 button.colab-df-convert');\n",
              "        buttonEl.style.display =\n",
              "          google.colab.kernel.accessAllowed ? 'block' : 'none';\n",
              "\n",
              "        async function convertToInteractive(key) {\n",
              "          const element = document.querySelector('#df-f7d89736-1bea-40cb-9949-799859fe7ad7');\n",
              "          const dataTable =\n",
              "            await google.colab.kernel.invokeFunction('convertToInteractive',\n",
              "                                                     [key], {});\n",
              "          if (!dataTable) return;\n",
              "\n",
              "          const docLinkHtml = 'Like what you see? Visit the ' +\n",
              "            '<a target=\"_blank\" href=https://colab.research.google.com/notebooks/data_table.ipynb>data table notebook</a>'\n",
              "            + ' to learn more about interactive tables.';\n",
              "          element.innerHTML = '';\n",
              "          dataTable['output_type'] = 'display_data';\n",
              "          await google.colab.output.renderOutput(dataTable, element);\n",
              "          const docLink = document.createElement('div');\n",
              "          docLink.innerHTML = docLinkHtml;\n",
              "          element.appendChild(docLink);\n",
              "        }\n",
              "      </script>\n",
              "    </div>\n",
              "  </div>\n",
              "  "
            ]
          },
          "metadata": {},
          "execution_count": 4
        }
      ]
    },
    {
      "cell_type": "code",
      "source": [
        "methodes_choix = [\"Exercices à l'écrit\", # 0\n",
        "                 \"Exercices à l'oral\", # 1\n",
        "                 \"Lire\", # 2\n",
        "                 \"Regarder\", # 3\n",
        "                 \"Écouter\", # 4\n",
        "                 \"Écrire\", # 5\n",
        "                 \"Parler à l'oral\", # 6\n",
        "                 \"Parler à l'écrit\"] # 7\n",
        "ages = L2_donnees.Age.tolist()\n",
        "periodes = L2_donnees.Period_Apprentissage.tolist()\n",
        "L1_col = L2_donnees.L1.tolist()\n",
        "L2_col = L2_donnees.L2.tolist()\n",
        "vocab = L2_donnees.Vocabulaire.tolist()\n",
        "grammaire = L2_donnees.Grammaire.tolist()\n",
        "prononciation = L2_donnees.Prononciation.tolist()\n",
        "lecture = L2_donnees.Lecture.tolist()\n",
        "ecoute = L2_donnees.Ecoute.tolist()\n",
        "methodes = L2_donnees.Methodes.tolist()\n",
        "bon = L2_donnees.Bon.tolist()\n",
        "EE = L2_donnees.EE.tolist()\n",
        "HH = L2_donnees.HH.tolist()\n",
        "liaison = L2_donnees.Liaison.tolist()\n",
        "nombre_sujets_L2 = len(L2_donnees)"
      ],
      "metadata": {
        "id": "280KNijDcvkK"
      },
      "execution_count": 5,
      "outputs": []
    },
    {
      "cell_type": "markdown",
      "source": [
        "### Les Âges"
      ],
      "metadata": {
        "id": "Vpv5WZBoX8Pp"
      }
    },
    {
      "cell_type": "code",
      "source": [
        "print(ages)\n",
        "print('médiane: ', np.median(ages))\n",
        "print('moyenne: ', np.mean(ages))\n",
        "print('étendue:', np.ptp(ages))"
      ],
      "metadata": {
        "colab": {
          "base_uri": "https://localhost:8080/"
        },
        "id": "669hrob9T6WV",
        "outputId": "2cb80224-4484-4926-f34e-7b1a98a6c06b"
      },
      "execution_count": 6,
      "outputs": [
        {
          "output_type": "stream",
          "name": "stdout",
          "text": [
            "[19, 19, 20, 23, 16]\n",
            "médiane:  19.0\n",
            "moyenne:  19.4\n",
            "étendue: 7\n"
          ]
        }
      ]
    },
    {
      "cell_type": "code",
      "source": [
        "ages_dict = compter(ages)\n",
        "ages_dict"
      ],
      "metadata": {
        "colab": {
          "base_uri": "https://localhost:8080/"
        },
        "id": "fD-WbVILWcGe",
        "outputId": "03e945b9-3076-42be-f345-c77213ddc86c"
      },
      "execution_count": 7,
      "outputs": [
        {
          "output_type": "execute_result",
          "data": {
            "text/plain": [
              "{19: 2, 20: 1, 23: 1, 16: 1}"
            ]
          },
          "metadata": {},
          "execution_count": 7
        }
      ]
    },
    {
      "cell_type": "code",
      "source": [
        "fig = plt.figure(figsize = (10, 5))\n",
        "\n",
        "plt.bar(list(ages_dict.keys()), list(ages_dict.values()), color ='blue',\n",
        "        width = 0.4)\n",
        " \n",
        "plt.xlabel(\"Ans\")\n",
        "plt.ylabel(\"Nombre de Sujets\")\n",
        "plt.title(\"Les Âges des Sujets\")\n",
        "plt.show()"
      ],
      "metadata": {
        "colab": {
          "base_uri": "https://localhost:8080/",
          "height": 351
        },
        "id": "uG4d2eTEWj6F",
        "outputId": "f5dd9dc4-79d9-4852-fcd9-9b57f7316d98"
      },
      "execution_count": 9,
      "outputs": [
        {
          "output_type": "display_data",
          "data": {
            "text/plain": [
              "<Figure size 720x360 with 1 Axes>"
            ],
            "image/png": "[encoded data removed]"
          },
          "metadata": {
            "needs_background": "light"
          }
        }
      ]
    },
    {
      "cell_type": "markdown",
      "source": [
        "### Les Périodes d'Apprentissage"
      ],
      "metadata": {
        "id": "gcYsdrIgYG3l"
      }
    },
    {
      "cell_type": "code",
      "source": [
        "periodes[0] = float(fractions.Fraction(periodes[0]))\n",
        "periodes = [float(i) for i in periodes]\n",
        "periodes_triée = sorted(periodes)\n",
        "periodes"
      ],
      "metadata": {
        "colab": {
          "base_uri": "https://localhost:8080/"
        },
        "id": "F4FePxhMYNMO",
        "outputId": "332ef5ac-8bcb-4a8d-8b47-0098f686a488"
      },
      "execution_count": 10,
      "outputs": [
        {
          "output_type": "execute_result",
          "data": {
            "text/plain": [
              "[0.20833333333333334, 7.0, 6.0, 2.0, 15.0]"
            ]
          },
          "metadata": {},
          "execution_count": 10
        }
      ]
    },
    {
      "cell_type": "code",
      "source": [
        "print('médiane: ', np.median(periodes))\n",
        "print('moyenne: ', np.mean(periodes))\n",
        "print('étendue:', np.ptp(periodes))"
      ],
      "metadata": {
        "colab": {
          "base_uri": "https://localhost:8080/"
        },
        "id": "3iC8ACiDUqPN",
        "outputId": "389518b9-e94c-4aa7-ae31-a0ef6927f7ac"
      },
      "execution_count": 11,
      "outputs": [
        {
          "output_type": "stream",
          "name": "stdout",
          "text": [
            "médiane:  6.0\n",
            "moyenne:  6.041666666666666\n",
            "étendue: 14.791666666666666\n"
          ]
        }
      ]
    },
    {
      "cell_type": "code",
      "source": [
        "periodes_dict = compter(periodes_triée)\n",
        "periodes_dict "
      ],
      "metadata": {
        "colab": {
          "base_uri": "https://localhost:8080/"
        },
        "id": "7AqirQnlYGYs",
        "outputId": "74470dc4-c6db-46d2-c93f-2119177a8564"
      },
      "execution_count": 12,
      "outputs": [
        {
          "output_type": "execute_result",
          "data": {
            "text/plain": [
              "{0.20833333333333334: 1, 2.0: 1, 6.0: 1, 7.0: 1, 15.0: 1}"
            ]
          },
          "metadata": {},
          "execution_count": 12
        }
      ]
    },
    {
      "cell_type": "code",
      "source": [
        "fig = plt.figure(figsize = (10, 5))\n",
        "\n",
        "plt.bar(list(periodes_dict.keys()), list(periodes_dict.values()), color ='blue',\n",
        "        width = 0.4)\n",
        " \n",
        "plt.xlabel(\"Ans\")\n",
        "plt.ylabel(\"Nombre de Sujets\")\n",
        "plt.title(\"Depuis combien de temps étudiez-vous le français?\")\n",
        "plt.show()"
      ],
      "metadata": {
        "colab": {
          "base_uri": "https://localhost:8080/",
          "height": 350
        },
        "id": "z7aFEtemYTzm",
        "outputId": "b307182c-26c6-4d14-d1f2-8d2cfde8d790"
      },
      "execution_count": 13,
      "outputs": [
        {
          "output_type": "display_data",
          "data": {
            "text/plain": [
              "<Figure size 720x360 with 1 Axes>"
            ],
            "image/png": "[encoded data removed]"
          },
          "metadata": {
            "needs_background": "light"
          }
        }
      ]
    },
    {
      "cell_type": "markdown",
      "source": [
        "### Langues Maternelles"
      ],
      "metadata": {
        "id": "q1Oa_x5vb3u2"
      }
    },
    {
      "cell_type": "code",
      "source": [
        "L1_arr = divise(L1_col)\n",
        "L2_arr = divise(L2_col)"
      ],
      "metadata": {
        "id": "auJVCZaSVMQD"
      },
      "execution_count": 14,
      "outputs": []
    },
    {
      "cell_type": "code",
      "source": [
        "langues1_dict = compter(L1_arr)\n",
        "langues2_dict = compter(L2_arr)"
      ],
      "metadata": {
        "id": "GeoI3nfKHXzJ"
      },
      "execution_count": 15,
      "outputs": []
    },
    {
      "cell_type": "code",
      "source": [
        "langues1_dict"
      ],
      "metadata": {
        "colab": {
          "base_uri": "https://localhost:8080/"
        },
        "id": "4pCaufQ9ZapK",
        "outputId": "d06c01ca-eb72-4ac9-c017-07153c42bb58"
      },
      "execution_count": 16,
      "outputs": [
        {
          "output_type": "execute_result",
          "data": {
            "text/plain": [
              "{'coreen': 1,\n",
              " 'anglais': 4,\n",
              " 'chinois mandarin': 1,\n",
              " 'espagnol': 1,\n",
              " 'suedois': 1,\n",
              " 'slovaque': 1}"
            ]
          },
          "metadata": {},
          "execution_count": 16
        }
      ]
    },
    {
      "cell_type": "code",
      "source": [
        "langues2_dict.pop('francais')\n",
        "langues2_dict"
      ],
      "metadata": {
        "colab": {
          "base_uri": "https://localhost:8080/"
        },
        "id": "_XnWhvv6Zb1s",
        "outputId": "c49205b9-c979-4957-ea6a-ac0bd501005c"
      },
      "execution_count": 17,
      "outputs": [
        {
          "output_type": "execute_result",
          "data": {
            "text/plain": [
              "{'japonais': 2,\n",
              " 'chinois mandarin': 2,\n",
              " 'espagnol': 2,\n",
              " 'anglais': 2,\n",
              " 'hindi': 1,\n",
              " 'portugais': 1}"
            ]
          },
          "metadata": {},
          "execution_count": 17
        }
      ]
    },
    {
      "cell_type": "code",
      "source": [
        "fig = plt.figure(figsize = (10, 5))\n",
        "\n",
        "plt.bar(list(langues1_dict.keys()), list(langues1_dict.values()), color ='blue',\n",
        "        width = 0.4)\n",
        " \n",
        "plt.xlabel(\"Langues Maternelles\")\n",
        "plt.ylabel(\"Nombre de Sujets\")\n",
        "plt.title(\"Les Langues Maternelles des Sujets\")\n",
        "plt.show()"
      ],
      "metadata": {
        "colab": {
          "base_uri": "https://localhost:8080/",
          "height": 350
        },
        "id": "975cDV9pbqw6",
        "outputId": "af78f1c4-c447-4295-e3b3-027ef478ec77"
      },
      "execution_count": 18,
      "outputs": [
        {
          "output_type": "display_data",
          "data": {
            "text/plain": [
              "<Figure size 720x360 with 1 Axes>"
            ],
            "image/png": "[encoded data removed]"
          },
          "metadata": {
            "needs_background": "light"
          }
        }
      ]
    },
    {
      "cell_type": "markdown",
      "source": [
        "### Les Langues que les Sujets Étudient en Plus du Français\n"
      ],
      "metadata": {
        "id": "Te517CPxdUye"
      }
    },
    {
      "cell_type": "code",
      "source": [
        "fig = plt.figure(figsize = (10, 5))\n",
        "\n",
        "plt.bar(list(langues2_dict.keys()), list(langues2_dict.values()), color ='blue',\n",
        "        width = 0.4)\n",
        " \n",
        "plt.xlabel(\"Langues\")\n",
        "plt.ylabel(\"Nombre de Sujets\")\n",
        "plt.title(\"Les Langues que les Sujets Étudient en Plus du Français\")\n",
        "plt.show()"
      ],
      "metadata": {
        "colab": {
          "base_uri": "https://localhost:8080/",
          "height": 351
        },
        "id": "uwoVAaKEdMmb",
        "outputId": "4ea62f92-8502-4694-b0f0-838929d34943"
      },
      "execution_count": 19,
      "outputs": [
        {
          "output_type": "display_data",
          "data": {
            "text/plain": [
              "<Figure size 720x360 with 1 Axes>"
            ],
            "image/png": "[encoded data removed]"
          },
          "metadata": {
            "needs_background": "light"
          }
        }
      ]
    },
    {
      "cell_type": "markdown",
      "source": [
        "### Les Priorités"
      ],
      "metadata": {
        "id": "TbXSOsk0ebf2"
      }
    },
    {
      "cell_type": "code",
      "source": [
        "vocab_m = np.mean(vocab)\n",
        "grammaire_m = np.mean(grammaire)\n",
        "prononciation_m = np.mean(prononciation)\n",
        "lecture_m = np.mean(lecture)\n",
        "ecoute_m = np.mean(ecoute)"
      ],
      "metadata": {
        "id": "NCSJLRfeddPG"
      },
      "execution_count": 20,
      "outputs": []
    },
    {
      "cell_type": "code",
      "source": [
        "priorites_cle = ['Vocabulaire', 'Grammaire', 'Prononciation', 'Lecture', 'Ecoute']\n",
        "priorites_dict = {'Vocabulaire': np.mean(vocab), 'Grammaire': np.mean(grammaire), 'Prononciation': np.mean(prononciation), 'Lecture': np.mean(lecture), 'Ecoute': np.mean(ecoute)}\n",
        "priorites_dict\n",
        "# convertir à une liste de tuples s'il y a du temps"
      ],
      "metadata": {
        "colab": {
          "base_uri": "https://localhost:8080/"
        },
        "id": "YLw4MpAke48p",
        "outputId": "72c8237e-3503-456f-cb91-7c979bcc0e1d"
      },
      "execution_count": 21,
      "outputs": [
        {
          "output_type": "execute_result",
          "data": {
            "text/plain": [
              "{'Vocabulaire': 2.8,\n",
              " 'Grammaire': 3.4,\n",
              " 'Prononciation': 3.4,\n",
              " 'Lecture': 3.6,\n",
              " 'Ecoute': 3.6}"
            ]
          },
          "metadata": {},
          "execution_count": 21
        }
      ]
    },
    {
      "cell_type": "markdown",
      "source": [
        "### Les Méthodes d'Étudier"
      ],
      "metadata": {
        "id": "YlTw4aB2caQY"
      }
    },
    {
      "cell_type": "code",
      "source": [
        "methodes"
      ],
      "metadata": {
        "id": "6W_1RrW8gifP",
        "colab": {
          "base_uri": "https://localhost:8080/"
        },
        "outputId": "fa3a4148-ff86-4273-a4f3-e099a774fdad"
      },
      "execution_count": 22,
      "outputs": [
        {
          "output_type": "execute_result",
          "data": {
            "text/plain": [
              "['0,1,2,3,4,5,6,7', '2,3,4,5,6,7', '1,3,4', '1,3,4,6,7', '2,4']"
            ]
          },
          "metadata": {},
          "execution_count": 22
        }
      ]
    },
    {
      "cell_type": "code",
      "source": [
        "methodes_arr = divise(methodes)\n",
        "methodes_arr = [int(i) for i in methodes_arr]\n",
        "methodes_indice_arr = [*set(methodes_arr)]"
      ],
      "metadata": {
        "id": "DWmtzZQsit62"
      },
      "execution_count": 23,
      "outputs": []
    },
    {
      "cell_type": "code",
      "source": [
        "methodes_dict = compter(methodes_arr)\n",
        "methodes_dict"
      ],
      "metadata": {
        "colab": {
          "base_uri": "https://localhost:8080/"
        },
        "id": "dkNu-QCBmemE",
        "outputId": "c29f0f91-f93e-4a25-d4d0-e52bb362b0e1"
      },
      "execution_count": 24,
      "outputs": [
        {
          "output_type": "execute_result",
          "data": {
            "text/plain": [
              "{0: 1, 1: 3, 2: 3, 3: 4, 4: 5, 5: 2, 6: 3, 7: 3}"
            ]
          },
          "metadata": {},
          "execution_count": 24
        }
      ]
    },
    {
      "cell_type": "code",
      "source": [
        "for i in range(len(methodes_dict)):\n",
        "  methodes_dict[methodes_choix[i]] = methodes_dict[i]\n",
        "  del methodes_dict[i]"
      ],
      "metadata": {
        "id": "ETfTPjJmnE9d"
      },
      "execution_count": 25,
      "outputs": []
    },
    {
      "cell_type": "code",
      "source": [
        "methodes_dict"
      ],
      "metadata": {
        "colab": {
          "base_uri": "https://localhost:8080/"
        },
        "id": "S_yY6WiFnUaa",
        "outputId": "197ab821-18df-476e-97ed-5c2e9c7e0d4a"
      },
      "execution_count": 26,
      "outputs": [
        {
          "output_type": "execute_result",
          "data": {
            "text/plain": [
              "{\"Exercices à l'écrit\": 1,\n",
              " \"Exercices à l'oral\": 3,\n",
              " 'Lire': 3,\n",
              " 'Regarder': 4,\n",
              " 'Écouter': 5,\n",
              " 'Écrire': 2,\n",
              " \"Parler à l'oral\": 3,\n",
              " \"Parler à l'écrit\": 3}"
            ]
          },
          "metadata": {},
          "execution_count": 26
        }
      ]
    },
    {
      "cell_type": "code",
      "source": [
        "fig = plt.figure(figsize = (15, 5))\n",
        "\n",
        "plt.bar(list(methodes_dict.keys()), list(methodes_dict.values()), color ='blue',\n",
        "        width = 0.4)\n",
        " \n",
        "plt.xlabel(\"Methodes\")\n",
        "plt.ylabel(\"Nombre de Sujets\")\n",
        "plt.title(\"Les Méthodes d'Étudier que Les Sujets Utilisent\")\n",
        "plt.show()"
      ],
      "metadata": {
        "id": "8PKdlPS6csOH",
        "colab": {
          "base_uri": "https://localhost:8080/",
          "height": 351
        },
        "outputId": "666fc6f3-8d45-45d9-97c4-893e2f694099"
      },
      "execution_count": 27,
      "outputs": [
        {
          "output_type": "display_data",
          "data": {
            "text/plain": [
              "<Figure size 1080x360 with 1 Axes>"
            ],
            "image/png": "[encoded data removed]"
          },
          "metadata": {
            "needs_background": "light"
          }
        }
      ]
    },
    {
      "cell_type": "markdown",
      "source": [
        "### Les Résultats d'Épreuve de Prononciation"
      ],
      "metadata": {
        "id": "mvt_a23owrn_"
      }
    },
    {
      "cell_type": "code",
      "source": [
        "bon_somme = sum(bon)\n",
        "EE_somme = sum(EE)\n",
        "HH_somme = sum(HH)\n",
        "liaison_float = [float(fractions.Fraction(x)) for x in liaison]\n",
        "liaison_float"
      ],
      "metadata": {
        "colab": {
          "base_uri": "https://localhost:8080/"
        },
        "id": "4EpUKXuVVPDG",
        "outputId": "9d87a4ee-89af-4e63-eb53-ffd7e125c18a"
      },
      "execution_count": 28,
      "outputs": [
        {
          "output_type": "execute_result",
          "data": {
            "text/plain": [
              "[0.2857142857142857,\n",
              " 0.8571428571428571,\n",
              " 0.7142857142857143,\n",
              " 0.8571428571428571,\n",
              " 0.8571428571428571]"
            ]
          },
          "metadata": {},
          "execution_count": 28
        }
      ]
    },
    {
      "cell_type": "code",
      "source": [
        "sommes = [bon_somme, EE_somme, HH_somme]"
      ],
      "metadata": {
        "id": "jyehpd-sVqNk"
      },
      "execution_count": 29,
      "outputs": []
    },
    {
      "cell_type": "code",
      "source": [
        "fig = plt.figure(figsize = (10, 5))\n",
        "\n",
        "plt.bar(['Bon Ami vs Bon Pain', '/e/ vs /ɛ/', 'H aspiré vs Muet'], sommes, color ='blue',\n",
        "        width = 0.4)\n",
        " \n",
        "plt.xlabel(\"Distinctions\")\n",
        "plt.ylabel(\"Nombre de Sujets\")\n",
        "plt.title(\"Est-ce que les apprennants L2 du français L2 font ces distinctions?\")\n",
        "plt.show()"
      ],
      "metadata": {
        "colab": {
          "base_uri": "https://localhost:8080/",
          "height": 350
        },
        "id": "1q-7xYd-W125",
        "outputId": "c15558f5-cd06-4350-c508-19da0e96d720"
      },
      "execution_count": 30,
      "outputs": [
        {
          "output_type": "display_data",
          "data": {
            "text/plain": [
              "<Figure size 720x360 with 1 Axes>"
            ],
            "image/png": "[encoded data removed]"
          },
          "metadata": {
            "needs_background": "light"
          }
        }
      ]
    },
    {
      "cell_type": "code",
      "source": [
        "x = periodes\n",
        "y = liaison_float\n",
        "\n",
        "(m, b) = np.polyfit(x, y, 1)\n",
        "yp = np.polyval([m, b], x)\n",
        "\n",
        "plt.plot(x, yp)\n",
        "plt.grid(True)\n",
        "plt.scatter(x, y)\n",
        "plt.xlabel(\"Période d'Apprentissage (Ans)\")\n",
        "plt.ylabel(\"Combien de Liaisons Le Sujet a Faites (sur 7)\")\n",
        "plt.title(\"L'Épreuve de Liaison\")\n",
        "plt.savefig(\"liaison\", dpi = 100)\n",
        "plt.show()"
      ],
      "metadata": {
        "colab": {
          "base_uri": "https://localhost:8080/",
          "height": 297
        },
        "id": "_gR0WVdxXyA0",
        "outputId": "16bc312d-3541-4905-b202-b3c8e14d2107"
      },
      "execution_count": 35,
      "outputs": [
        {
          "output_type": "display_data",
          "data": {
            "text/plain": [
              "<Figure size 432x288 with 1 Axes>"
            ],
            "image/png": "[encoded data removed]"
          },
          "metadata": {
            "needs_background": "light"
          }
        }
      ]
    },
    {
      "cell_type": "markdown",
      "source": [
        "## Les Locuteurs de Français L1"
      ],
      "metadata": {
        "id": "oXtZvHxsfgZG"
      }
    },
    {
      "cell_type": "code",
      "source": [
        "L1_donnees = pd.read_csv('/content/drive/MyDrive/French_146A/étude/données/L1 - Sheet1.csv')\n",
        "L1_donnees"
      ],
      "metadata": {
        "colab": {
          "base_uri": "https://localhost:8080/",
          "height": 112
        },
        "id": "qzC4SNiGe4MH",
        "outputId": "cbc7e253-471a-42d8-cc5e-68cd2f0c94f5"
      },
      "execution_count": null,
      "outputs": [
        {
          "output_type": "execute_result",
          "data": {
            "text/plain": [
              "  Sujet  Age  Bon  EE  HH Liaison\n",
              "0     F   18    1   1   0     7/7\n",
              "1     Q   22    1   1   1     6/7"
            ],
            "text/html": [
              "\n",
              "  <div id=\"df-83d4572f-253f-4e79-a2b3-c0a3d0212741\">\n",
              "    <div class=\"colab-df-container\">\n",
              "      <div>\n",
              "<style scoped>\n",
              "    .dataframe tbody tr th:only-of-type {\n",
              "        vertical-align: middle;\n",
              "    }\n",
              "\n",
              "    .dataframe tbody tr th {\n",
              "        vertical-align: top;\n",
              "    }\n",
              "\n",
              "    .dataframe thead th {\n",
              "        text-align: right;\n",
              "    }\n",
              "</style>\n",
              "<table border=\"1\" class=\"dataframe\">\n",
              "  <thead>\n",
              "    <tr style=\"text-align: right;\">\n",
              "      <th></th>\n",
              "      <th>Sujet</th>\n",
              "      <th>Age</th>\n",
              "      <th>Bon</th>\n",
              "      <th>EE</th>\n",
              "      <th>HH</th>\n",
              "      <th>Liaison</th>\n",
              "    </tr>\n",
              "  </thead>\n",
              "  <tbody>\n",
              "    <tr>\n",
              "      <th>0</th>\n",
              "      <td>F</td>\n",
              "      <td>18</td>\n",
              "      <td>1</td>\n",
              "      <td>1</td>\n",
              "      <td>0</td>\n",
              "      <td>7/7</td>\n",
              "    </tr>\n",
              "    <tr>\n",
              "      <th>1</th>\n",
              "      <td>Q</td>\n",
              "      <td>22</td>\n",
              "      <td>1</td>\n",
              "      <td>1</td>\n",
              "      <td>1</td>\n",
              "      <td>6/7</td>\n",
              "    </tr>\n",
              "  </tbody>\n",
              "</table>\n",
              "</div>\n",
              "      <button class=\"colab-df-convert\" onclick=\"convertToInteractive('df-83d4572f-253f-4e79-a2b3-c0a3d0212741')\"\n",
              "              title=\"Convert this dataframe to an interactive table.\"\n",
              "              style=\"display:none;\">\n",
              "        \n",
              "  <svg xmlns=\"http://www.w3.org/2000/svg\" height=\"24px\"viewBox=\"0 0 24 24\"\n",
              "       width=\"24px\">\n",
              "    <path d=\"M0 0h24v24H0V0z\" fill=\"none\"/>\n",
              "    <path d=\"M18.56 5.44l.94 2.06.94-2.06 2.06-.94-2.06-.94-.94-2.06-.94 2.06-2.06.94zm-11 1L8.5 8.5l.94-2.06 2.06-.94-2.06-.94L8.5 2.5l-.94 2.06-2.06.94zm10 10l.94 2.06.94-2.06 2.06-.94-2.06-.94-.94-2.06-.94 2.06-2.06.94z\"/><path d=\"M17.41 7.96l-1.37-1.37c-.4-.4-.92-.59-1.43-.59-.52 0-1.04.2-1.43.59L10.3 9.45l-7.72 7.72c-.78.78-.78 2.05 0 2.83L4 21.41c.39.39.9.59 1.41.59.51 0 1.02-.2 1.41-.59l7.78-7.78 2.81-2.81c.8-.78.8-2.07 0-2.86zM5.41 20L4 18.59l7.72-7.72 1.47 1.35L5.41 20z\"/>\n",
              "  </svg>\n",
              "      </button>\n",
              "      \n",
              "  <style>\n",
              "    .colab-df-container {\n",
              "      display:flex;\n",
              "      flex-wrap:wrap;\n",
              "      gap: 12px;\n",
              "    }\n",
              "\n",
              "    .colab-df-convert {\n",
              "      background-color: #E8F0FE;\n",
              "      border: none;\n",
              "      border-radius: 50%;\n",
              "      cursor: pointer;\n",
              "      display: none;\n",
              "      fill: #1967D2;\n",
              "      height: 32px;\n",
              "      padding: 0 0 0 0;\n",
              "      width: 32px;\n",
              "    }\n",
              "\n",
              "    .colab-df-convert:hover {\n",
              "      background-color: #E2EBFA;\n",
              "      box-shadow: 0px 1px 2px rgba(60, 64, 67, 0.3), 0px 1px 3px 1px rgba(60, 64, 67, 0.15);\n",
              "      fill: #174EA6;\n",
              "    }\n",
              "\n",
              "    [theme=dark] .colab-df-convert {\n",
              "      background-color: #3B4455;\n",
              "      fill: #D2E3FC;\n",
              "    }\n",
              "\n",
              "    [theme=dark] .colab-df-convert:hover {\n",
              "      background-color: #434B5C;\n",
              "      box-shadow: 0px 1px 3px 1px rgba(0, 0, 0, 0.15);\n",
              "      filter: drop-shadow(0px 1px 2px rgba(0, 0, 0, 0.3));\n",
              "      fill: #FFFFFF;\n",
              "    }\n",
              "  </style>\n",
              "\n",
              "      <script>\n",
              "        const buttonEl =\n",
              "          document.querySelector('#df-83d4572f-253f-4e79-a2b3-c0a3d0212741 button.colab-df-convert');\n",
              "        buttonEl.style.display =\n",
              "          google.colab.kernel.accessAllowed ? 'block' : 'none';\n",
              "\n",
              "        async function convertToInteractive(key) {\n",
              "          const element = document.querySelector('#df-83d4572f-253f-4e79-a2b3-c0a3d0212741');\n",
              "          const dataTable =\n",
              "            await google.colab.kernel.invokeFunction('convertToInteractive',\n",
              "                                                     [key], {});\n",
              "          if (!dataTable) return;\n",
              "\n",
              "          const docLinkHtml = 'Like what you see? Visit the ' +\n",
              "            '<a target=\"_blank\" href=https://colab.research.google.com/notebooks/data_table.ipynb>data table notebook</a>'\n",
              "            + ' to learn more about interactive tables.';\n",
              "          element.innerHTML = '';\n",
              "          dataTable['output_type'] = 'display_data';\n",
              "          await google.colab.output.renderOutput(dataTable, element);\n",
              "          const docLink = document.createElement('div');\n",
              "          docLink.innerHTML = docLinkHtml;\n",
              "          element.appendChild(docLink);\n",
              "        }\n",
              "      </script>\n",
              "    </div>\n",
              "  </div>\n",
              "  "
            ]
          },
          "metadata": {},
          "execution_count": 30
        }
      ]
    },
    {
      "cell_type": "code",
      "source": [
        "nombre_sujets_L1 = len(L1_donnees)\n",
        "bon_L1 = L1_donnees.Bon.tolist()\n",
        "EE_L1 = L1_donnees.EE.tolist()\n",
        "HH_L1 = L1_donnees.HH.tolist()\n",
        "bon_somme_L1 = sum(bon_L1)\n",
        "EE_somme_L1 = sum(EE_L1)\n",
        "HH_somme_L1 = sum(HH_L1)\n",
        "sommes_L1 = [bon_somme_L1, EE_somme_L1, HH_somme_L1]\n",
        "liaison_L1 = L1_donnees.Liaison.tolist()\n",
        "liaison_float_L1 = [float(fractions.Fraction(x)) for x in liaison_L1]\n",
        "liaison_float_L1"
      ],
      "metadata": {
        "colab": {
          "base_uri": "https://localhost:8080/"
        },
        "id": "Cwoo6gm8fm5T",
        "outputId": "178375a6-355f-4c16-be35-898356123ac1"
      },
      "execution_count": null,
      "outputs": [
        {
          "output_type": "execute_result",
          "data": {
            "text/plain": [
              "[1.0, 0.8571428571428571]"
            ]
          },
          "metadata": {},
          "execution_count": 31
        }
      ]
    },
    {
      "cell_type": "code",
      "source": [
        "pourcentage_L1 = [i / nombre_sujets_L1 for i in sommes_L1]\n",
        "pourcentage_L2 = [i / nombre_sujets_L2 for i in sommes]"
      ],
      "metadata": {
        "id": "ZfSn39cSgVMP"
      },
      "execution_count": null,
      "outputs": []
    },
    {
      "cell_type": "code",
      "source": [
        "df = pd.DataFrame({\n",
        "    'Distinctions': ['Bon Ami vs Bon Pain', '/e/ vs /ɛ/', 'H aspiré vs Muet'],\n",
        "    'L1': pourcentage_L1,\n",
        "    'L2': pourcentage_L2\n",
        "})\n",
        "\n",
        "df.plot(x=\"Distinctions\", y=[\"L1\", \"L2\"], kind=\"bar\", title = \"Est-ce que les sujets font ces distinctions?\")"
      ],
      "metadata": {
        "colab": {
          "base_uri": "https://localhost:8080/",
          "height": 406
        },
        "id": "-_HG2iSxl6R4",
        "outputId": "f1c2fea8-2159-417d-dce2-7e908195167f"
      },
      "execution_count": null,
      "outputs": [
        {
          "output_type": "execute_result",
          "data": {
            "text/plain": [
              "<matplotlib.axes._subplots.AxesSubplot at 0x7f9a70440f50>"
            ]
          },
          "metadata": {},
          "execution_count": 47
        },
        {
          "output_type": "display_data",
          "data": {
            "text/plain": [
              "<Figure size 432x288 with 1 Axes>"
            ],
            "image/png": "[encoded data removed]"
          },
          "metadata": {
            "needs_background": "light"
          }
        }
      ]
    },
    {
      "cell_type": "code",
      "source": [],
      "metadata": {
        "id": "VxxvjhtslA2P"
      },
      "execution_count": null,
      "outputs": []
    }
  ]
}